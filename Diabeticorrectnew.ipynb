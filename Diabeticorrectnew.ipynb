{
  "nbformat": 4,
  "nbformat_minor": 0,
  "metadata": {
    "colab": {
      "provenance": []
    },
    "kernelspec": {
      "name": "python3",
      "display_name": "Python 3"
    },
    "language_info": {
      "name": "python"
    }
  },
  "cells": [
    {
      "cell_type": "code",
      "execution_count": null,
      "metadata": {
        "colab": {
          "base_uri": "https://localhost:8080/"
        },
        "id": "nqbivEOApr4R",
        "outputId": "ef32442d-3d88-4f7e-a19c-b0d54b1909bf"
      },
      "outputs": [
        {
          "output_type": "stream",
          "name": "stdout",
          "text": [
            "Mounted at /content/drive\n"
          ]
        }
      ],
      "source": [
        "from google. colab import drive\n",
        "drive.mount('/content/drive')"
      ]
    },
    {
      "cell_type": "code",
      "source": [
        "from tensorflow import lite\n",
        "import tensorflow as tf\n",
        "from tensorflow import keras\n",
        "from tensorflow.keras import layers\n",
        "import numpy as np\n",
        "import pandas as pd\n",
        "import random, os\n",
        "import shutil\n",
        "import matplotlib.pyplot as plt\n",
        "from matplotlib.image import imread\n",
        "from keras.preprocessing.image import ImageDataGenerator\n",
        "from tensorflow.keras.metrics import categorical_accuracy\n",
        "from sklearn.model_selection import train_test_split"
      ],
      "metadata": {
        "id": "dHWB4-cqp0Et"
      },
      "execution_count": null,
      "outputs": []
    },
    {
      "cell_type": "code",
      "source": [
        "train_path = '/content/drive/MyDrive/resized/train'\n",
        "valid_path = '/content/drive/MyDrive/resized/val'\n",
        "test_path = '/content/drive/MyDrive/resized/test'\n",
        "train_batches = ImageDataGenerator(rescale = 1./255).flow_from_directory(train_path, target_size=(224,224),\n",
        "classes=['No_DR','Mild','Moderate','Severe','Proliferate_DR'], shuffle = True)\n",
        "valid_batches= ImageDataGenerator(rescale = 1./255).flow_from_directory(valid_path, target_size=(224,224),\n",
        "classes=['No_DR','Mild','Moderate','Severe','Proliferate_DR'], shuffle = True)\n",
        "test_batches = ImageDataGenerator(rescale = 1./255).flow_from_directory(test_path, target_size=(224,224),\n",
        "classes=['No_DR','Mild','Moderate','Severe','Proliferate_DR'], shuffle = False)"
      ],
      "metadata": {
        "colab": {
          "base_uri": "https://localhost:8080/"
        },
        "id": "yy1ejbL3p3xM",
        "outputId": "ab5332c3-9ffa-40ca-d9e5-609c909b85bc"
      },
      "execution_count": null,
      "outputs": [
        {
          "output_type": "stream",
          "name": "stdout",
          "text": [
            "Found 2536 images belonging to 5 classes.\n",
            "Found 550 images belonging to 5 classes.\n",
            "Found 550 images belonging to 5 classes.\n"
          ]
        }
      ]
    },
    {
      "cell_type": "code",
      "source": [
        "model = tf.keras.Sequential([\n",
        "    layers.Conv2D(8, (3, 3), padding=\"valid\", input_shape=(224, 224, 3), activation='relu'),\n",
        "    layers.MaxPooling2D(pool_size=(2, 2)),\n",
        "    layers.BatchNormalization(),\n",
        "\n",
        "    layers.Conv2D(16, (3, 3), padding=\"valid\", activation='relu'),\n",
        "    layers.MaxPooling2D(pool_size=(2, 2)),\n",
        "    layers.BatchNormalization(),\n",
        "\n",
        "    layers.Conv2D(32, (4, 4), padding=\"valid\", activation='relu'),\n",
        "    layers.MaxPooling2D(pool_size=(2, 2)),\n",
        "    layers.BatchNormalization(),\n",
        "\n",
        "    layers.Flatten(),\n",
        "    layers.Dense(32, activation='relu'),\n",
        "    layers.Dropout(0.15),\n",
        "    layers.Dense(5, activation='softmax')\n",
        "])\n",
        "\n",
        "model.compile(optimizer=tf.keras.optimizers.Adam(learning_rate=1e-5),\n",
        "              loss=tf.keras.losses.CategoricalCrossentropy(),\n",
        "              metrics=['accuracy'])\n",
        "\n",
        "history = model.fit(train_batches, epochs=100, validation_data=valid_batches)"
      ],
      "metadata": {
        "colab": {
          "base_uri": "https://localhost:8080/"
        },
        "id": "5vGRioZ_p_7h",
        "outputId": "31019cb0-ddc5-45b5-f3a1-1f66fb59f5e8"
      },
      "execution_count": null,
      "outputs": [
        {
          "output_type": "stream",
          "name": "stdout",
          "text": [
            "Epoch 1/100\n",
            "80/80 [==============================] - 1009s 13s/step - loss: 1.1664 - accuracy: 0.5627 - val_loss: 1.4931 - val_accuracy: 0.5073\n",
            "Epoch 2/100\n",
            "80/80 [==============================] - 99s 1s/step - loss: 0.8750 - accuracy: 0.6893 - val_loss: 1.3573 - val_accuracy: 0.6545\n",
            "Epoch 3/100\n",
            "80/80 [==============================] - 99s 1s/step - loss: 0.8065 - accuracy: 0.7082 - val_loss: 1.2683 - val_accuracy: 0.4982\n",
            "Epoch 4/100\n",
            "80/80 [==============================] - 101s 1s/step - loss: 0.7807 - accuracy: 0.7165 - val_loss: 1.1210 - val_accuracy: 0.6618\n",
            "Epoch 5/100\n",
            "80/80 [==============================] - 103s 1s/step - loss: 0.7364 - accuracy: 0.7315 - val_loss: 0.9625 - val_accuracy: 0.6927\n",
            "Epoch 6/100\n",
            "80/80 [==============================] - 101s 1s/step - loss: 0.7179 - accuracy: 0.7409 - val_loss: 0.8548 - val_accuracy: 0.7182\n",
            "Epoch 7/100\n",
            "80/80 [==============================] - 101s 1s/step - loss: 0.6965 - accuracy: 0.7484 - val_loss: 0.7765 - val_accuracy: 0.7327\n",
            "Epoch 8/100\n",
            "80/80 [==============================] - 100s 1s/step - loss: 0.6704 - accuracy: 0.7662 - val_loss: 0.7403 - val_accuracy: 0.7309\n",
            "Epoch 9/100\n",
            "80/80 [==============================] - 102s 1s/step - loss: 0.6647 - accuracy: 0.7555 - val_loss: 0.7227 - val_accuracy: 0.7455\n",
            "Epoch 10/100\n",
            "80/80 [==============================] - 98s 1s/step - loss: 0.6366 - accuracy: 0.7666 - val_loss: 0.7072 - val_accuracy: 0.7418\n",
            "Epoch 11/100\n",
            "80/80 [==============================] - 102s 1s/step - loss: 0.6300 - accuracy: 0.7756 - val_loss: 0.7024 - val_accuracy: 0.7418\n",
            "Epoch 12/100\n",
            "80/80 [==============================] - 102s 1s/step - loss: 0.6085 - accuracy: 0.7756 - val_loss: 0.7034 - val_accuracy: 0.7491\n",
            "Epoch 13/100\n",
            "80/80 [==============================] - 100s 1s/step - loss: 0.6098 - accuracy: 0.7815 - val_loss: 0.7014 - val_accuracy: 0.7418\n",
            "Epoch 14/100\n",
            "80/80 [==============================] - 103s 1s/step - loss: 0.5821 - accuracy: 0.7894 - val_loss: 0.6937 - val_accuracy: 0.7400\n",
            "Epoch 15/100\n",
            "80/80 [==============================] - 103s 1s/step - loss: 0.5717 - accuracy: 0.7879 - val_loss: 0.6892 - val_accuracy: 0.7400\n",
            "Epoch 16/100\n",
            "80/80 [==============================] - 100s 1s/step - loss: 0.5639 - accuracy: 0.8028 - val_loss: 0.6954 - val_accuracy: 0.7455\n",
            "Epoch 17/100\n",
            "80/80 [==============================] - 98s 1s/step - loss: 0.5462 - accuracy: 0.8028 - val_loss: 0.6875 - val_accuracy: 0.7455\n",
            "Epoch 18/100\n",
            "80/80 [==============================] - 102s 1s/step - loss: 0.5432 - accuracy: 0.8068 - val_loss: 0.6983 - val_accuracy: 0.7455\n",
            "Epoch 19/100\n",
            "80/80 [==============================] - 99s 1s/step - loss: 0.5305 - accuracy: 0.8170 - val_loss: 0.6952 - val_accuracy: 0.7509\n",
            "Epoch 20/100\n",
            "80/80 [==============================] - 101s 1s/step - loss: 0.5206 - accuracy: 0.8139 - val_loss: 0.6944 - val_accuracy: 0.7473\n",
            "Epoch 21/100\n",
            "80/80 [==============================] - 97s 1s/step - loss: 0.5022 - accuracy: 0.8222 - val_loss: 0.6995 - val_accuracy: 0.7491\n",
            "Epoch 22/100\n",
            "80/80 [==============================] - 101s 1s/step - loss: 0.4963 - accuracy: 0.8229 - val_loss: 0.6955 - val_accuracy: 0.7509\n",
            "Epoch 23/100\n",
            "80/80 [==============================] - 98s 1s/step - loss: 0.4975 - accuracy: 0.8297 - val_loss: 0.6825 - val_accuracy: 0.7364\n",
            "Epoch 24/100\n",
            "80/80 [==============================] - 101s 1s/step - loss: 0.4837 - accuracy: 0.8257 - val_loss: 0.6902 - val_accuracy: 0.7436\n",
            "Epoch 25/100\n",
            "80/80 [==============================] - 97s 1s/step - loss: 0.4790 - accuracy: 0.8277 - val_loss: 0.6901 - val_accuracy: 0.7436\n",
            "Epoch 26/100\n",
            "80/80 [==============================] - 102s 1s/step - loss: 0.4619 - accuracy: 0.8438 - val_loss: 0.6921 - val_accuracy: 0.7364\n",
            "Epoch 27/100\n",
            "80/80 [==============================] - 101s 1s/step - loss: 0.4606 - accuracy: 0.8478 - val_loss: 0.6835 - val_accuracy: 0.7418\n",
            "Epoch 28/100\n",
            "80/80 [==============================] - 100s 1s/step - loss: 0.4430 - accuracy: 0.8391 - val_loss: 0.6841 - val_accuracy: 0.7327\n",
            "Epoch 29/100\n",
            "80/80 [==============================] - 97s 1s/step - loss: 0.4323 - accuracy: 0.8509 - val_loss: 0.6805 - val_accuracy: 0.7436\n",
            "Epoch 30/100\n",
            "80/80 [==============================] - 93s 1s/step - loss: 0.4310 - accuracy: 0.8470 - val_loss: 0.6852 - val_accuracy: 0.7400\n",
            "Epoch 31/100\n",
            "80/80 [==============================] - 95s 1s/step - loss: 0.4223 - accuracy: 0.8494 - val_loss: 0.6933 - val_accuracy: 0.7418\n",
            "Epoch 32/100\n",
            "80/80 [==============================] - 95s 1s/step - loss: 0.4161 - accuracy: 0.8592 - val_loss: 0.6890 - val_accuracy: 0.7327\n",
            "Epoch 33/100\n",
            "80/80 [==============================] - 97s 1s/step - loss: 0.4038 - accuracy: 0.8612 - val_loss: 0.6928 - val_accuracy: 0.7309\n",
            "Epoch 34/100\n",
            "80/80 [==============================] - 97s 1s/step - loss: 0.4020 - accuracy: 0.8628 - val_loss: 0.6892 - val_accuracy: 0.7345\n",
            "Epoch 35/100\n",
            "80/80 [==============================] - 103s 1s/step - loss: 0.3918 - accuracy: 0.8726 - val_loss: 0.6872 - val_accuracy: 0.7382\n",
            "Epoch 36/100\n",
            "80/80 [==============================] - 100s 1s/step - loss: 0.3758 - accuracy: 0.8711 - val_loss: 0.6881 - val_accuracy: 0.7291\n",
            "Epoch 37/100\n",
            "80/80 [==============================] - 98s 1s/step - loss: 0.3757 - accuracy: 0.8691 - val_loss: 0.6961 - val_accuracy: 0.7345\n",
            "Epoch 38/100\n",
            "80/80 [==============================] - 97s 1s/step - loss: 0.3705 - accuracy: 0.8722 - val_loss: 0.6874 - val_accuracy: 0.7345\n",
            "Epoch 39/100\n",
            "80/80 [==============================] - 98s 1s/step - loss: 0.3581 - accuracy: 0.8856 - val_loss: 0.6973 - val_accuracy: 0.7418\n",
            "Epoch 40/100\n",
            "80/80 [==============================] - 97s 1s/step - loss: 0.3557 - accuracy: 0.8853 - val_loss: 0.6883 - val_accuracy: 0.7345\n",
            "Epoch 41/100\n",
            "80/80 [==============================] - 97s 1s/step - loss: 0.3435 - accuracy: 0.8841 - val_loss: 0.6938 - val_accuracy: 0.7382\n",
            "Epoch 42/100\n",
            "80/80 [==============================] - 94s 1s/step - loss: 0.3428 - accuracy: 0.8900 - val_loss: 0.6999 - val_accuracy: 0.7291\n",
            "Epoch 43/100\n",
            "80/80 [==============================] - 98s 1s/step - loss: 0.3381 - accuracy: 0.8884 - val_loss: 0.7006 - val_accuracy: 0.7291\n",
            "Epoch 44/100\n",
            "80/80 [==============================] - 98s 1s/step - loss: 0.3268 - accuracy: 0.8963 - val_loss: 0.6983 - val_accuracy: 0.7291\n",
            "Epoch 45/100\n",
            "80/80 [==============================] - 99s 1s/step - loss: 0.3137 - accuracy: 0.8983 - val_loss: 0.6920 - val_accuracy: 0.7309\n",
            "Epoch 46/100\n",
            "80/80 [==============================] - 96s 1s/step - loss: 0.3046 - accuracy: 0.9022 - val_loss: 0.7002 - val_accuracy: 0.7255\n",
            "Epoch 47/100\n",
            "80/80 [==============================] - 96s 1s/step - loss: 0.3105 - accuracy: 0.8998 - val_loss: 0.6958 - val_accuracy: 0.7291\n",
            "Epoch 48/100\n",
            "80/80 [==============================] - 99s 1s/step - loss: 0.3010 - accuracy: 0.9069 - val_loss: 0.7046 - val_accuracy: 0.7273\n",
            "Epoch 49/100\n",
            "80/80 [==============================] - 98s 1s/step - loss: 0.2982 - accuracy: 0.9058 - val_loss: 0.7048 - val_accuracy: 0.7291\n",
            "Epoch 50/100\n",
            "80/80 [==============================] - 98s 1s/step - loss: 0.2841 - accuracy: 0.9184 - val_loss: 0.7113 - val_accuracy: 0.7364\n",
            "Epoch 51/100\n",
            "80/80 [==============================] - 98s 1s/step - loss: 0.2804 - accuracy: 0.9203 - val_loss: 0.7096 - val_accuracy: 0.7255\n",
            "Epoch 52/100\n",
            "80/80 [==============================] - 96s 1s/step - loss: 0.2757 - accuracy: 0.9188 - val_loss: 0.6985 - val_accuracy: 0.7273\n",
            "Epoch 53/100\n",
            "80/80 [==============================] - 99s 1s/step - loss: 0.2684 - accuracy: 0.9200 - val_loss: 0.7134 - val_accuracy: 0.7400\n",
            "Epoch 54/100\n",
            "80/80 [==============================] - 97s 1s/step - loss: 0.2660 - accuracy: 0.9215 - val_loss: 0.7151 - val_accuracy: 0.7364\n",
            "Epoch 55/100\n",
            "80/80 [==============================] - 97s 1s/step - loss: 0.2653 - accuracy: 0.9207 - val_loss: 0.7110 - val_accuracy: 0.7345\n",
            "Epoch 56/100\n",
            "80/80 [==============================] - 100s 1s/step - loss: 0.2592 - accuracy: 0.9239 - val_loss: 0.7129 - val_accuracy: 0.7327\n",
            "Epoch 57/100\n",
            "80/80 [==============================] - 100s 1s/step - loss: 0.2527 - accuracy: 0.9243 - val_loss: 0.7150 - val_accuracy: 0.7273\n",
            "Epoch 58/100\n",
            "80/80 [==============================] - 98s 1s/step - loss: 0.2437 - accuracy: 0.9318 - val_loss: 0.7116 - val_accuracy: 0.7255\n",
            "Epoch 59/100\n",
            "80/80 [==============================] - 98s 1s/step - loss: 0.2504 - accuracy: 0.9239 - val_loss: 0.7114 - val_accuracy: 0.7309\n",
            "Epoch 60/100\n",
            "80/80 [==============================] - 100s 1s/step - loss: 0.2378 - accuracy: 0.9334 - val_loss: 0.7141 - val_accuracy: 0.7255\n",
            "Epoch 61/100\n",
            "80/80 [==============================] - 99s 1s/step - loss: 0.2329 - accuracy: 0.9338 - val_loss: 0.7121 - val_accuracy: 0.7255\n",
            "Epoch 62/100\n",
            "80/80 [==============================] - 94s 1s/step - loss: 0.2276 - accuracy: 0.9361 - val_loss: 0.7195 - val_accuracy: 0.7273\n",
            "Epoch 63/100\n",
            "80/80 [==============================] - 97s 1s/step - loss: 0.2249 - accuracy: 0.9365 - val_loss: 0.7251 - val_accuracy: 0.7273\n",
            "Epoch 64/100\n",
            "80/80 [==============================] - 94s 1s/step - loss: 0.2123 - accuracy: 0.9483 - val_loss: 0.7253 - val_accuracy: 0.7291\n",
            "Epoch 65/100\n",
            "80/80 [==============================] - 103s 1s/step - loss: 0.2192 - accuracy: 0.9428 - val_loss: 0.7403 - val_accuracy: 0.7345\n",
            "Epoch 66/100\n",
            "80/80 [==============================] - 97s 1s/step - loss: 0.2178 - accuracy: 0.9405 - val_loss: 0.7332 - val_accuracy: 0.7309\n",
            "Epoch 67/100\n",
            "80/80 [==============================] - 96s 1s/step - loss: 0.2047 - accuracy: 0.9495 - val_loss: 0.7391 - val_accuracy: 0.7345\n",
            "Epoch 68/100\n",
            "80/80 [==============================] - 95s 1s/step - loss: 0.2053 - accuracy: 0.9550 - val_loss: 0.7401 - val_accuracy: 0.7255\n",
            "Epoch 69/100\n",
            "80/80 [==============================] - 96s 1s/step - loss: 0.2014 - accuracy: 0.9448 - val_loss: 0.7332 - val_accuracy: 0.7309\n",
            "Epoch 70/100\n",
            "80/80 [==============================] - 97s 1s/step - loss: 0.1895 - accuracy: 0.9519 - val_loss: 0.7471 - val_accuracy: 0.7309\n",
            "Epoch 71/100\n",
            "80/80 [==============================] - 98s 1s/step - loss: 0.1996 - accuracy: 0.9436 - val_loss: 0.7345 - val_accuracy: 0.7291\n",
            "Epoch 72/100\n",
            "80/80 [==============================] - 96s 1s/step - loss: 0.1886 - accuracy: 0.9495 - val_loss: 0.7277 - val_accuracy: 0.7273\n",
            "Epoch 73/100\n",
            "80/80 [==============================] - 99s 1s/step - loss: 0.1924 - accuracy: 0.9503 - val_loss: 0.7281 - val_accuracy: 0.7345\n",
            "Epoch 74/100\n",
            "80/80 [==============================] - 99s 1s/step - loss: 0.1792 - accuracy: 0.9562 - val_loss: 0.7484 - val_accuracy: 0.7273\n",
            "Epoch 75/100\n",
            "80/80 [==============================] - 100s 1s/step - loss: 0.1755 - accuracy: 0.9491 - val_loss: 0.7387 - val_accuracy: 0.7273\n",
            "Epoch 76/100\n",
            "80/80 [==============================] - 95s 1s/step - loss: 0.1720 - accuracy: 0.9610 - val_loss: 0.7425 - val_accuracy: 0.7273\n",
            "Epoch 77/100\n",
            "80/80 [==============================] - 99s 1s/step - loss: 0.1715 - accuracy: 0.9606 - val_loss: 0.7476 - val_accuracy: 0.7382\n",
            "Epoch 78/100\n",
            "80/80 [==============================] - 99s 1s/step - loss: 0.1664 - accuracy: 0.9610 - val_loss: 0.7446 - val_accuracy: 0.7345\n",
            "Epoch 79/100\n",
            "80/80 [==============================] - 101s 1s/step - loss: 0.1592 - accuracy: 0.9625 - val_loss: 0.7567 - val_accuracy: 0.7291\n",
            "Epoch 80/100\n",
            "80/80 [==============================] - 100s 1s/step - loss: 0.1631 - accuracy: 0.9586 - val_loss: 0.7554 - val_accuracy: 0.7218\n",
            "Epoch 81/100\n",
            "80/80 [==============================] - 98s 1s/step - loss: 0.1556 - accuracy: 0.9625 - val_loss: 0.7647 - val_accuracy: 0.7382\n",
            "Epoch 82/100\n",
            "80/80 [==============================] - 97s 1s/step - loss: 0.1507 - accuracy: 0.9681 - val_loss: 0.7529 - val_accuracy: 0.7345\n",
            "Epoch 83/100\n",
            "80/80 [==============================] - 99s 1s/step - loss: 0.1547 - accuracy: 0.9598 - val_loss: 0.7544 - val_accuracy: 0.7327\n",
            "Epoch 84/100\n",
            "80/80 [==============================] - 95s 1s/step - loss: 0.1511 - accuracy: 0.9641 - val_loss: 0.7553 - val_accuracy: 0.7327\n",
            "Epoch 85/100\n",
            "80/80 [==============================] - 99s 1s/step - loss: 0.1540 - accuracy: 0.9590 - val_loss: 0.7594 - val_accuracy: 0.7345\n",
            "Epoch 86/100\n",
            "80/80 [==============================] - 100s 1s/step - loss: 0.1464 - accuracy: 0.9665 - val_loss: 0.7660 - val_accuracy: 0.7309\n",
            "Epoch 87/100\n",
            "80/80 [==============================] - 100s 1s/step - loss: 0.1397 - accuracy: 0.9712 - val_loss: 0.7627 - val_accuracy: 0.7364\n",
            "Epoch 88/100\n",
            "80/80 [==============================] - 101s 1s/step - loss: 0.1369 - accuracy: 0.9614 - val_loss: 0.7666 - val_accuracy: 0.7455\n",
            "Epoch 89/100\n",
            "80/80 [==============================] - 99s 1s/step - loss: 0.1324 - accuracy: 0.9696 - val_loss: 0.7725 - val_accuracy: 0.7309\n",
            "Epoch 90/100\n",
            "80/80 [==============================] - 100s 1s/step - loss: 0.1316 - accuracy: 0.9692 - val_loss: 0.7584 - val_accuracy: 0.7291\n",
            "Epoch 91/100\n",
            "80/80 [==============================] - 96s 1s/step - loss: 0.1329 - accuracy: 0.9696 - val_loss: 0.7822 - val_accuracy: 0.7291\n",
            "Epoch 92/100\n",
            "80/80 [==============================] - 98s 1s/step - loss: 0.1246 - accuracy: 0.9712 - val_loss: 0.7798 - val_accuracy: 0.7382\n",
            "Epoch 93/100\n",
            "80/80 [==============================] - 99s 1s/step - loss: 0.1336 - accuracy: 0.9681 - val_loss: 0.7776 - val_accuracy: 0.7273\n",
            "Epoch 94/100\n",
            "80/80 [==============================] - 96s 1s/step - loss: 0.1263 - accuracy: 0.9724 - val_loss: 0.7800 - val_accuracy: 0.7345\n",
            "Epoch 95/100\n",
            "80/80 [==============================] - 98s 1s/step - loss: 0.1177 - accuracy: 0.9752 - val_loss: 0.7843 - val_accuracy: 0.7273\n",
            "Epoch 96/100\n",
            "80/80 [==============================] - 96s 1s/step - loss: 0.1187 - accuracy: 0.9752 - val_loss: 0.7966 - val_accuracy: 0.7309\n",
            "Epoch 97/100\n",
            "80/80 [==============================] - 97s 1s/step - loss: 0.1156 - accuracy: 0.9756 - val_loss: 0.7728 - val_accuracy: 0.7364\n",
            "Epoch 98/100\n",
            "80/80 [==============================] - 101s 1s/step - loss: 0.1137 - accuracy: 0.9767 - val_loss: 0.8076 - val_accuracy: 0.7327\n",
            "Epoch 99/100\n",
            "80/80 [==============================] - 98s 1s/step - loss: 0.1156 - accuracy: 0.9728 - val_loss: 0.7883 - val_accuracy: 0.7382\n",
            "Epoch 100/100\n",
            "80/80 [==============================] - 98s 1s/step - loss: 0.1040 - accuracy: 0.9791 - val_loss: 0.7984 - val_accuracy: 0.7345\n"
          ]
        }
      ]
    },
    {
      "cell_type": "code",
      "source": [
        "model.save('/content/drive/MyDrive/blindness-detection/e5model.h5')"
      ],
      "metadata": {
        "id": "B1_-JlziunNL",
        "colab": {
          "base_uri": "https://localhost:8080/"
        },
        "outputId": "c177dd51-143f-44bd-ce62-2dd95956dc4a"
      },
      "execution_count": null,
      "outputs": [
        {
          "output_type": "stream",
          "name": "stderr",
          "text": [
            "/usr/local/lib/python3.10/dist-packages/keras/src/engine/training.py:3079: UserWarning: You are saving your model as an HDF5 file via `model.save()`. This file format is considered legacy. We recommend using instead the native Keras format, e.g. `model.save('my_model.keras')`.\n",
            "  saving_api.save_model(\n"
          ]
        }
      ]
    },
    {
      "cell_type": "code",
      "source": [
        "loss, acc = model.evaluate_generator(test_batches, verbose=1)\n",
        "print(\"Loss: \", loss)\n",
        "print(\"Accuracy: \", acc)"
      ],
      "metadata": {
        "id": "0FZ4a_pnurWb",
        "colab": {
          "base_uri": "https://localhost:8080/"
        },
        "outputId": "8cc6b05e-c404-4ccd-9f8c-c9cf8f1d5501"
      },
      "execution_count": null,
      "outputs": [
        {
          "output_type": "stream",
          "name": "stderr",
          "text": [
            "<ipython-input-7-b08fd55361be>:1: UserWarning: `Model.evaluate_generator` is deprecated and will be removed in a future version. Please use `Model.evaluate`, which supports generators.\n",
            "  loss, acc = model.evaluate_generator(test_batches, verbose=1)\n"
          ]
        },
        {
          "output_type": "stream",
          "name": "stdout",
          "text": [
            "18/18 [==============================] - 13s 744ms/step - loss: 0.7934 - accuracy: 0.7709\n",
            "Loss:  0.7934137582778931\n",
            "Accuracy:  0.7709090709686279\n"
          ]
        }
      ]
    },
    {
      "cell_type": "code",
      "source": [
        "import numpy as np\n",
        "from sklearn.metrics import classification_report, confusion_matrix\n",
        "import tensorflow as tf\n",
        "\n",
        "# Assuming you have your test_batches prepared as mentioned in the previous code snippet\n",
        "\n",
        "# Get the predictions for the test set\n",
        "test_predictions = model.predict(test_batches)\n",
        "\n",
        "# Convert predictions to class labels\n",
        "predicted_labels = np.argmax(test_predictions, axis=1)\n",
        "\n",
        "# Convert true labels to class labels\n",
        "true_labels = test_batches.classes\n",
        "\n",
        "# Get the class names\n",
        "class_names = ['No_DR', 'Mild', 'Moderate', 'Severe', 'Proliferate_DR']\n",
        "\n",
        "# Print classification report\n",
        "print(\"Classification Report:\")\n",
        "print(classification_report(true_labels, predicted_labels, target_names=class_names))\n",
        "\n",
        "# Print confusion matrix\n",
        "print(\"Confusion Matrix:\")\n",
        "conf_matrix = confusion_matrix(true_labels, predicted_labels)\n",
        "print(conf_matrix)\n",
        "\n",
        "# Calculate overall test accuracy\n",
        "test_accuracy = np.sum(predicted_labels == true_labels) / len(true_labels)\n",
        "print(f\"Overall Test Accuracy: {test_accuracy * 100:.2f}%\")\n",
        "\n",
        "# Calculate accuracy for each class\n",
        "class_accuracy = {}\n",
        "for i, class_name in enumerate(class_names):\n",
        "    class_idx = test_batches.class_indices[class_name]\n",
        "    class_true_labels = (true_labels == class_idx)\n",
        "    class_predicted_labels = (predicted_labels == class_idx)\n",
        "    class_acc = np.sum(class_true_labels & class_predicted_labels) / np.sum(class_true_labels)\n",
        "    class_accuracy[class_name] = class_acc\n",
        "    print(f\"Accuracy for {class_name}: {class_acc * 100:.2f}%\")\n"
      ],
      "metadata": {
        "colab": {
          "base_uri": "https://localhost:8080/"
        },
        "id": "mpy-F5hYoHuv",
        "outputId": "c9941a75-a761-4214-927f-365e047f7eb6"
      },
      "execution_count": null,
      "outputs": [
        {
          "output_type": "stream",
          "name": "stdout",
          "text": [
            "18/18 [==============================] - 8s 415ms/step\n",
            "Classification Report:\n",
            "                precision    recall  f1-score   support\n",
            "\n",
            "         No_DR       0.94      0.97      0.95       271\n",
            "          Mild       0.56      0.52      0.54        56\n",
            "      Moderate       0.65      0.77      0.71       150\n",
            "        Severe       0.36      0.14      0.20        29\n",
            "Proliferate_DR       0.44      0.27      0.34        44\n",
            "\n",
            "      accuracy                           0.77       550\n",
            "     macro avg       0.59      0.53      0.55       550\n",
            "  weighted avg       0.75      0.77      0.75       550\n",
            "\n",
            "Confusion Matrix:\n",
            "[[263   1   7   0   0]\n",
            " [  7  29  15   0   5]\n",
            " [  9  16 116   2   7]\n",
            " [  0   1  21   4   3]\n",
            " [  2   5  20   5  12]]\n",
            "Overall Test Accuracy: 77.09%\n",
            "Accuracy for No_DR: 97.05%\n",
            "Accuracy for Mild: 51.79%\n",
            "Accuracy for Moderate: 77.33%\n",
            "Accuracy for Severe: 13.79%\n",
            "Accuracy for Proliferate_DR: 27.27%\n"
          ]
        }
      ]
    },
    {
      "cell_type": "code",
      "source": [
        "import matplotlib.pyplot as plt\n",
        "\n",
        "# Plot training and validation accuracy\n",
        "plt.figure(figsize=(12, 4))\n",
        "plt.subplot(1, 2, 1)\n",
        "plt.plot(history.history['accuracy'], label='Train Accuracy')\n",
        "plt.plot(history.history['val_accuracy'], label='Validation Accuracy')\n",
        "plt.xlabel('Epochs')\n",
        "plt.ylabel('Accuracy')\n",
        "plt.title('Training and Validation Accuracy')\n",
        "plt.legend()\n",
        "\n",
        "# Plot training and validation loss\n",
        "plt.subplot(1, 2, 2)\n",
        "plt.plot(history.history['loss'], label='Train Loss')\n",
        "plt.plot(history.history['val_loss'], label='Validation Loss')\n",
        "plt.xlabel('Epochs')\n",
        "plt.ylabel('Loss')\n",
        "plt.title('Training and Validation Loss')\n",
        "plt.legend()\n",
        "\n",
        "plt.tight_layout()\n",
        "plt.show()\n"
      ],
      "metadata": {
        "colab": {
          "base_uri": "https://localhost:8080/",
          "height": 407
        },
        "id": "5mF_dTrLC6lo",
        "outputId": "5837b77c-fd1f-43ac-f65b-4b4a6cb45634"
      },
      "execution_count": null,
      "outputs": [
        {
          "output_type": "display_data",
          "data": {
            "text/plain": [
              "<Figure size 1200x400 with 2 Axes>"
            ],
            "image/png": "[encoded data removed]"
          },
          "metadata": {}
        }
      ]
    },
    {
      "cell_type": "code",
      "source": [
        "import cv2\n",
        "import numpy as np\n",
        "from tensorflow import keras\n",
        "from tensorflow.keras.preprocessing.image import ImageDataGenerator\n",
        "\n",
        "# Load the trained model\n",
        "model = keras.models.load_model('/content/drive/MyDrive/blindness-detection/emodel.h5')  # Replace 'your_model_path.h5' with the actual path to your model file\n",
        "\n",
        "# Function to preprocess an image for prediction\n",
        "def preprocess_image(image_path):\n",
        "    img = cv2.imread(image_path)\n",
        "    img = cv2.cvtColor(img, cv2.COLOR_BGR2RGB)  # Convert to RGB\n",
        "    img = cv2.resize(img, (224, 224))  # Resize to match the input size of your model\n",
        "    img = img / 255.0  # Normalize pixel values to be between 0 and 1\n",
        "    img = np.expand_dims(img, axis=0)  # Add batch dimension\n",
        "    return img\n",
        "\n",
        "# Function to get the predicted class name for an image\n",
        "def predict_image(image_path, class_labels):\n",
        "    processed_image = preprocess_image(image_path)\n",
        "    prediction = model.predict(processed_image)\n",
        "\n",
        "    # Get the index of the predicted class\n",
        "    predicted_class_index = np.argmax(prediction)\n",
        "\n",
        "    # Get the predicted class label\n",
        "    predicted_class = class_labels[predicted_class_index]\n",
        "\n",
        "    return predicted_class\n",
        "\n",
        "# Get class labels as a list from the test generator\n",
        "class_labels = list(test_batches.class_indices.keys())\n",
        "\n",
        "# Example usage\n",
        "test_image_path = '/content/drive/MyDrive/resized/test/Proliferate_DR/0e0fc1d9810c.png'  # Replace 'path_to_your_test_image.jpg' with the actual path to your test image\n",
        "predicted_class = predict_image(test_image_path, class_labels)\n",
        "print(f'Predicted class: {predicted_class}')\n"
      ],
      "metadata": {
        "colab": {
          "base_uri": "https://localhost:8080/"
        },
        "id": "Ef39DMtyGJ1g",
        "outputId": "f954b474-0e2d-4923-bf9d-b324702e78f8"
      },
      "execution_count": null,
      "outputs": [
        {
          "output_type": "stream",
          "name": "stdout",
          "text": [
            "1/1 [==============================] - 0s 136ms/step\n",
            "Predicted class: Proliferate_DR\n"
          ]
        }
      ]
    },
    {
      "cell_type": "code",
      "source": [
        "import cv2\n",
        "import numpy as np\n",
        "from tensorflow import keras\n",
        "from tensorflow.keras.preprocessing.image import ImageDataGenerator\n",
        "\n",
        "# Load the trained model\n",
        "model = keras.models.load_model('/content/drive/MyDrive/blindness-detection/emodel.h5')  # Replace 'your_model_path.h5' with the actual path to your model file\n",
        "\n",
        "# Function to preprocess an image for prediction\n",
        "def preprocess_image(image_path):\n",
        "    img = cv2.imread(image_path)\n",
        "    img = cv2.cvtColor(img, cv2.COLOR_BGR2RGB)  # Convert to RGB\n",
        "    img = cv2.resize(img, (224, 224))  # Resize to match the input size of your model\n",
        "    img = img / 255.0  # Normalize pixel values to be between 0 and 1\n",
        "    img = np.expand_dims(img, axis=0)  # Add batch dimension\n",
        "    return img\n",
        "\n",
        "# Function to get the predicted class name for an image\n",
        "def predict_image(image_path, class_labels):\n",
        "    processed_image = preprocess_image(image_path)\n",
        "    prediction = model.predict(processed_image)\n",
        "\n",
        "    # Get the index of the predicted class\n",
        "    predicted_class_index = np.argmax(prediction)\n",
        "\n",
        "    # Get the predicted class label\n",
        "    predicted_class = class_labels[predicted_class_index]\n",
        "\n",
        "    return predicted_class\n",
        "\n",
        "# Get class labels as a list from the test generator\n",
        "class_labels = list(test_batches.class_indices.keys())\n",
        "\n",
        "# Example usage\n",
        "test_image_path = '/content/drive/MyDrive/resized/test/No_DR/005b95c28852.png'  # Replace 'path_to_your_test_image.jpg' with the actual path to your test image\n",
        "predicted_class = predict_image(test_image_path, class_labels)\n",
        "print(f'Predicted class: {predicted_class}')\n"
      ],
      "metadata": {
        "colab": {
          "base_uri": "https://localhost:8080/"
        },
        "id": "rVuEBlA8H66G",
        "outputId": "9fcdce6c-f6e6-40f6-e5fd-60c72379b7e9"
      },
      "execution_count": null,
      "outputs": [
        {
          "output_type": "stream",
          "name": "stdout",
          "text": [
            "1/1 [==============================] - 0s 122ms/step\n",
            "Predicted class: No_DR\n"
          ]
        }
      ]
    },
    {
      "cell_type": "code",
      "source": [
        "import cv2\n",
        "import numpy as np\n",
        "from tensorflow import keras\n",
        "from tensorflow.keras.preprocessing.image import ImageDataGenerator\n",
        "\n",
        "# Load the trained model\n",
        "model = keras.models.load_model('/content/drive/MyDrive/blindness-detection/emodel.h5')  # Replace 'your_model_path.h5' with the actual path to your model file\n",
        "\n",
        "# Function to preprocess an image for prediction\n",
        "def preprocess_image(image_path):\n",
        "    img = cv2.imread(image_path)\n",
        "    img = cv2.cvtColor(img, cv2.COLOR_BGR2RGB)  # Convert to RGB\n",
        "    img = cv2.resize(img, (224, 224))  # Resize to match the input size of your model\n",
        "    img = img / 255.0  # Normalize pixel values to be between 0 and 1\n",
        "    img = np.expand_dims(img, axis=0)  # Add batch dimension\n",
        "    return img\n",
        "\n",
        "# Function to get the predicted class name for an image\n",
        "def predict_image(image_path, class_labels):\n",
        "    processed_image = preprocess_image(image_path)\n",
        "    prediction = model.predict(processed_image)\n",
        "\n",
        "    # Get the index of the predicted class\n",
        "    predicted_class_index = np.argmax(prediction)\n",
        "\n",
        "    # Get the predicted class label\n",
        "    predicted_class = class_labels[predicted_class_index]\n",
        "\n",
        "    return predicted_class\n",
        "\n",
        "# Get class labels as a list from the test generator\n",
        "class_labels = list(test_batches.class_indices.keys())\n",
        "\n",
        "# Example usage\n",
        "test_image_path = '/content/drive/MyDrive/resized/test/Moderate/3a61e690f4bb.png'  # Replace 'path_to_your_test_image.jpg' with the actual path to your test image\n",
        "predicted_class = predict_image(test_image_path, class_labels)\n",
        "print(f'Predicted class: {predicted_class}')\n"
      ],
      "metadata": {
        "colab": {
          "base_uri": "https://localhost:8080/"
        },
        "id": "cdDdiOg3IN9W",
        "outputId": "9d1fc6d3-2fc2-4aae-d95d-0b4f82a6545d"
      },
      "execution_count": null,
      "outputs": [
        {
          "output_type": "stream",
          "name": "stdout",
          "text": [
            "1/1 [==============================] - 0s 141ms/step\n",
            "Predicted class: Moderate\n"
          ]
        }
      ]
    },
    {
      "cell_type": "code",
      "source": [
        "import cv2\n",
        "import numpy as np\n",
        "from tensorflow import keras\n",
        "from tensorflow.keras.preprocessing.image import ImageDataGenerator\n",
        "\n",
        "# Load the trained model\n",
        "model = keras.models.load_model('/content/drive/MyDrive/blindness-detection/emodel.h5')  # Replace 'your_model_path.h5' with the actual path to your model file\n",
        "\n",
        "# Function to preprocess an image for prediction\n",
        "def preprocess_image(image_path):\n",
        "    img = cv2.imread(image_path)\n",
        "    img = cv2.cvtColor(img, cv2.COLOR_BGR2RGB)  # Convert to RGB\n",
        "    img = cv2.resize(img, (224, 224))  # Resize to match the input size of your model\n",
        "    img = img / 255.0  # Normalize pixel values to be between 0 and 1\n",
        "    img = np.expand_dims(img, axis=0)  # Add batch dimension\n",
        "    return img\n",
        "\n",
        "# Function to get the predicted class name for an image\n",
        "def predict_image(image_path, class_labels):\n",
        "    processed_image = preprocess_image(image_path)\n",
        "    prediction = model.predict(processed_image)\n",
        "\n",
        "    # Get the index of the predicted class\n",
        "    predicted_class_index = np.argmax(prediction)\n",
        "\n",
        "    # Get the predicted class label\n",
        "    predicted_class = class_labels[predicted_class_index]\n",
        "\n",
        "    return predicted_class\n",
        "\n",
        "# Get class labels as a list from the test generator\n",
        "class_labels = list(test_batches.class_indices.keys())\n",
        "\n",
        "# Example usage\n",
        "test_image_path = '/content/drive/MyDrive/resized/test/Mild/4dd5d5ccddcf.png'  # Replace 'path_to_your_test_image.jpg' with the actual path to your test image\n",
        "predicted_class = predict_image(test_image_path, class_labels)\n",
        "print(f'Predicted class: {predicted_class}')\n"
      ],
      "metadata": {
        "colab": {
          "base_uri": "https://localhost:8080/"
        },
        "id": "y_s7ZOiKIYlf",
        "outputId": "d3cb333d-b69e-4f7f-fcd7-c6e62e2e4b49"
      },
      "execution_count": null,
      "outputs": [
        {
          "output_type": "stream",
          "name": "stderr",
          "text": [
            "WARNING:tensorflow:5 out of the last 22 calls to <function Model.make_predict_function.<locals>.predict_function at 0x7d575c0b5000> triggered tf.function retracing. Tracing is expensive and the excessive number of tracings could be due to (1) creating @tf.function repeatedly in a loop, (2) passing tensors with different shapes, (3) passing Python objects instead of tensors. For (1), please define your @tf.function outside of the loop. For (2), @tf.function has reduce_retracing=True option that can avoid unnecessary retracing. For (3), please refer to https://www.tensorflow.org/guide/function#controlling_retracing and https://www.tensorflow.org/api_docs/python/tf/function for  more details.\n"
          ]
        },
        {
          "output_type": "stream",
          "name": "stdout",
          "text": [
            "1/1 [==============================] - 0s 189ms/step\n",
            "Predicted class: Mild\n"
          ]
        }
      ]
    },
    {
      "cell_type": "code",
      "source": [
        "import cv2\n",
        "import numpy as np\n",
        "from tensorflow import keras\n",
        "from tensorflow.keras.preprocessing.image import ImageDataGenerator\n",
        "\n",
        "# Load the trained model\n",
        "model = keras.models.load_model('/content/drive/MyDrive/blindness-detection/emodel.h5')  # Replace 'your_model_path.h5' with the actual path to your model file\n",
        "\n",
        "# Function to preprocess an image for prediction\n",
        "def preprocess_image(image_path):\n",
        "    img = cv2.imread(image_path)\n",
        "    img = cv2.cvtColor(img, cv2.COLOR_BGR2RGB)  # Convert to RGB\n",
        "    img = cv2.resize(img, (224, 224))  # Resize to match the input size of your model\n",
        "    img = img / 255.0  # Normalize pixel values to be between 0 and 1\n",
        "    img = np.expand_dims(img, axis=0)  # Add batch dimension\n",
        "    return img\n",
        "\n",
        "# Function to get the predicted class name for an image\n",
        "def predict_image(image_path, class_labels):\n",
        "    processed_image = preprocess_image(image_path)\n",
        "    prediction = model.predict(processed_image)\n",
        "\n",
        "    # Get the index of the predicted class\n",
        "    predicted_class_index = np.argmax(prediction)\n",
        "\n",
        "    # Get the predicted class label\n",
        "    predicted_class = class_labels[predicted_class_index]\n",
        "\n",
        "    return predicted_class\n",
        "\n",
        "# Get class labels as a list from the test generator\n",
        "class_labels = list(test_batches.class_indices.keys())\n",
        "\n",
        "# Example usage\n",
        "test_image_path = '/content/drive/MyDrive/resized/test/Severe/90b8bf342032.png'  # Replace 'path_to_your_test_image.jpg' with the actual path to your test image\n",
        "predicted_class = predict_image(test_image_path, class_labels)\n",
        "print(f'Predicted class: {predicted_class}')\n"
      ],
      "metadata": {
        "colab": {
          "base_uri": "https://localhost:8080/"
        },
        "id": "Ce4M5wGZIk3v",
        "outputId": "68f79451-83ab-46a8-88da-f1d508738121"
      },
      "execution_count": null,
      "outputs": [
        {
          "output_type": "stream",
          "name": "stderr",
          "text": [
            "WARNING:tensorflow:6 out of the last 23 calls to <function Model.make_predict_function.<locals>.predict_function at 0x7d575c0b6050> triggered tf.function retracing. Tracing is expensive and the excessive number of tracings could be due to (1) creating @tf.function repeatedly in a loop, (2) passing tensors with different shapes, (3) passing Python objects instead of tensors. For (1), please define your @tf.function outside of the loop. For (2), @tf.function has reduce_retracing=True option that can avoid unnecessary retracing. For (3), please refer to https://www.tensorflow.org/guide/function#controlling_retracing and https://www.tensorflow.org/api_docs/python/tf/function for  more details.\n"
          ]
        },
        {
          "output_type": "stream",
          "name": "stdout",
          "text": [
            "1/1 [==============================] - 0s 126ms/step\n",
            "Predicted class: Severe\n"
          ]
        }
      ]
    }
  ]
}